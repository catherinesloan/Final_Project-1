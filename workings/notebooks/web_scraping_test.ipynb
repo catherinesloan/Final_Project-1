{
 "cells": [
  {
   "cell_type": "code",
   "execution_count": 1,
   "metadata": {},
   "outputs": [],
   "source": [
    "# import dependencies\n",
    "from bs4 import BeautifulSoup as bs\n",
    "import requests\n",
    "import os\n",
    "import pandas as pd\n",
    "from splinter import Browser\n",
    "from webdriver_manager.chrome import ChromeDriverManager\n",
    "import time"
   ]
  },
  {
   "cell_type": "code",
   "execution_count": 2,
   "metadata": {},
   "outputs": [],
   "source": [
    "def initialise_browser():\n",
    "    executable_path = {'executable_path': ChromeDriverManager().install()}\n",
    "    return Browser(\"chrome\", **executable_path, headless=False)"
   ]
  },
  {
   "cell_type": "code",
   "execution_count": 35,
   "metadata": {},
   "outputs": [],
   "source": [
    "url = \"https://www.domain.com.au/57-curtin-ave-abbotsford-nsw-2046-2016992421\""
   ]
  },
  {
   "cell_type": "code",
   "execution_count": 37,
   "metadata": {},
   "outputs": [
    {
     "name": "stderr",
     "output_type": "stream",
     "text": [
      "[WDM] - ====== WebDriver manager ======\n",
      "[WDM] - Current google-chrome version is 90.0.4430\n",
      "[WDM] - Get LATEST driver version for 90.0.4430\n"
     ]
    },
    {
     "name": "stdout",
     "output_type": "stream",
     "text": [
      "\n",
      "\n"
     ]
    },
    {
     "name": "stderr",
     "output_type": "stream",
     "text": [
      "[WDM] - Driver [/Users/catherine/.wdm/drivers/chromedriver/mac64/90.0.4430.24/chromedriver] found in cache\n"
     ]
    }
   ],
   "source": [
    "browser = initialise_browser()\n",
    "\n",
    "# retrieve page with the requests module and visit url\n",
    "response = requests.get(url)\n",
    "browser.visit(url)\n",
    "\n",
    "# getting the html code of browser\n",
    "html = browser.html\n"
   ]
  },
  {
   "cell_type": "code",
   "execution_count": 38,
   "metadata": {},
   "outputs": [
    {
     "data": {
      "text/plain": [
       "<div class=\"css-fpm9y\" data-testid=\"listing-details__summary-left-column\"><span style=\"font-size:0\"></span><div class=\"css-1wve38g\"><div class=\"css-i9gxme\"><div class=\"css-1texeil\" data-testid=\"listing-details__summary-title\">Auction</div></div><div class=\"css-17aata3\"><ul class=\"css-q473zh\" data-testid=\"listing-details__address-cta-buttons\"><li><button class=\"css-2g8bc3\" data-testid=\"listing-details__mobile-header-share-button\" type=\"button\"><svg aria-hidden=\"true\" class=\"domain-icon css-jeyium\" viewbox=\"0 0 24 24\"><path d=\"M3 15v4a2 2 0 0 0 2 2h14a2 2 0 0 0 2-2v-4\" fill=\"none\" stroke=\"currentColor\" stroke-linecap=\"round\" stroke-linejoin=\"round\" stroke-width=\"2\"></path><path d=\"M11.7 4.7l-5 5a.5.5 0 0 0 .4.9h2.4V16a.5.5 0 0 0 .5.5h4a.5.5 0 0 0 .5-.5v-5.5H17a.5.5 0 0 0 .4-.8l-5-5a.5.5 0 0 0-.7 0z\" fill=\"none\" stroke=\"currentColor\" stroke-linejoin=\"round\"></path><path d=\"M0 0h24v24H0z\" fill=\"none\"></path></svg></button></li><li><button class=\"css-urnqdz\" data-testid=\"listing-details__shortlist-button\" type=\"button\"><svg aria-hidden=\"true\" class=\"domain-icon css-21om3h\" data-testid=\"listing-details__shortlist-button-icon\" viewbox=\"0 0 24 24\"><path d=\"M11.4 17.2l-5.6 3.7a.5.5 0 0 1-.7-.7l2.8-5.5a1 1 0 0 0-.3-1.2L3.2 10a.5.5 0 0 1 .3-1h5.1a1 1 0 0 0 .9-.6l1.9-5a.6.6 0 0 1 1.1 0l1.9 5a1 1 0 0 0 .9.6h5.1a.5.5 0 0 1 .3 1l-4.4 3.5a1 1 0 0 0-.3 1.2l2.8 5.5a.5.5 0 0 1-.8.7l-5.6-3.7a1 1 0 0 0-1 0z\" fill=\"inherit\" stroke=\"currentColor\" stroke-miterlimit=\"10\" stroke-width=\"2\"></path></svg></button></li></ul></div></div><div class=\"css-1tpe8dy\" data-testid=\"listing-details__button-copy-wrapper\"><h1 class=\"css-164r41r\">57 Curtin Ave Abbotsford NSW 2046</h1><div class=\"css-hyxlzm\"><button aria-label=\"copy text\" class=\"css-mf9h20\" data-testid=\"listing-details__button-copy\" type=\"button\"><svg aria-hidden=\"true\" class=\"domain-icon css-jeyium\" viewbox=\"0 0 24 24\"><rect fill=\"none\" height=\"12\" rx=\"1\" ry=\"1\" stroke=\"currentColor\" stroke-width=\"2\" width=\"12\" x=\"9\" y=\"4\"></rect><path d=\"M16 19v1a1 1 0 0 1-1 1H5a1 1 0 0 1-1-1V10a1 1 0 0 1 1-1h1\" fill=\"none\" stroke=\"currentColor\" stroke-width=\"2\"></path></svg></button></div></div><div class=\"css-ghc6s4\" data-testid=\"property-features\"><div class=\"css-18biwo\" data-testid=\"property-features-wrapper\"><span class=\"css-1ie6g1l\" data-testid=\"property-features-feature\"><span class=\"css-1rzse3v\" data-testid=\"property-features-text-container\">3<!-- --> <span class=\"css-9fxapx\" data-testid=\"property-features-text\">Beds</span></span><svg aria-hidden=\"true\" class=\"domain-icon property-feature__icon css-gsqvet\" height=\"24\" viewbox=\"0 0 24 24\" width=\"24\"><path d=\"M4.00002 19.00001v2M20.00002 19.00001v2M8 11h8a5 5 0 0 1 5 5v3H3v-3a5 5 0 0 1 5-5z\" fill=\"none\" stroke=\"currentColor\" stroke-width=\"2\"></path><path d=\"M6.5 11V9A1.5 1.5 0 0 1 8 7.5h2A1.5 1.5 0 0 1 11.5 9v1M12.5 10V9A1.5 1.5 0 0 1 14 7.5h2A1.5 1.5 0 0 1 17.5 9v2\" fill=\"none\" stroke=\"currentColor\"></path><path d=\"M20 13V5a2 2 0 0 0-2-2H6a2 2 0 0 0-2 2v8\" fill=\"none\" stroke=\"currentColor\" stroke-width=\"2\"></path><path d=\"M3.5 15.5h17\" fill=\"none\" stroke=\"currentColor\"></path></svg></span><span class=\"css-1ie6g1l\" data-testid=\"property-features-feature\"><span class=\"css-1rzse3v\" data-testid=\"property-features-text-container\">2<!-- --> <span class=\"css-9fxapx\" data-testid=\"property-features-text\">Baths</span></span><svg aria-hidden=\"true\" class=\"domain-icon property-feature__icon css-gsqvet\" height=\"24\" viewbox=\"0 0 24 24\" width=\"24\"><path d=\"M6 19v2M18 19v2\" fill=\"none\" stroke=\"currentColor\" stroke-width=\"2\"></path><g fill=\"currentColor\"><circle cx=\"15.5\" cy=\"8.5\" r=\".5\"></circle><circle cx=\"13.5\" cy=\"8.5\" r=\".5\"></circle><circle cx=\"11.5\" cy=\"8.5\" r=\".5\"></circle><circle cx=\"13.5\" cy=\"6.5\" r=\".5\"></circle><circle cx=\"13.5\" cy=\"10.5\" r=\".5\"></circle><circle cx=\"11.5\" cy=\"10.5\" r=\".5\"></circle><circle cx=\"17.5\" cy=\"10.5\" r=\".5\"></circle><circle cx=\"15.5\" cy=\"10.5\" r=\".5\"></circle></g><g fill=\"none\" stroke=\"currentColor\" stroke-width=\"2\"><path d=\"M4 13h16v2a5 5 0 0 1-5 5H9a5 5 0 0 1-5-5v-2zM4 12V7a3 3 0 0 1 3-3h1\"></path><path d=\"M8 6.3V4a1 1 0 0 1 1-1h2.3a.7.7 0 0 1 .5 1.2L9.2 6.8A.7.7 0 0 1 8 6.3zM3 13h18\"></path></g></svg></span><span class=\"css-1ie6g1l\" data-testid=\"property-features-feature\"><span class=\"css-1rzse3v\" data-testid=\"property-features-text-container\">3<!-- --> <span class=\"css-9fxapx\" data-testid=\"property-features-text\">Parking</span></span><svg aria-hidden=\"true\" class=\"domain-icon property-feature__icon css-gsqvet\" height=\"24\" viewbox=\"0 0 24 24\" width=\"24\"><path d=\"M21 10h-2M5 10H3\" fill=\"none\" stroke=\"currentColor\" stroke-miterlimit=\"10\" stroke-width=\"2\"></path><path d=\"M9.5 15.5h5m-9-5h13\" fill=\"none\" stroke=\"currentColor\" stroke-miterlimit=\"10\"></path><path d=\"M20.6 12.6L19 10l-1.5-3.7A2 2 0 0 0 15.6 5H8.4a2 2 0 0 0-1.9 1.3L5 10l-1.6 2.6a3 3 0 0 0-.4 1.5V17a2 2 0 0 0 2 2h14a2 2 0 0 0 2-2v-2.9a3 3 0 0 0-.4-1.5z\" fill=\"none\" stroke=\"currentColor\" stroke-width=\"2\"></path><path d=\"M7 19v1a1 1 0 0 1-1 1 1 1 0 0 1-1-1v-1m14 0v1a1 1 0 0 1-1 1 1 1 0 0 1-1-1v-1\" stroke=\"currentColor\" stroke-width=\"2\"></path><path d=\"M3.5 14.5H7a.5.5 0 0 1 .5.5v.5a1 1 0 0 1-1 1h-3v-2zm13.5 0h3.5v2h-3a1 1 0 0 1-1-1V15a.5.5 0 0 1 .5-.5z\" fill=\"none\" stroke=\"currentColor\"></path></svg></span><span class=\"css-1ie6g1l\" data-testid=\"property-features-feature\"><span class=\"css-1rzse3v\" data-testid=\"property-features-text-container\">470m²<!-- --> </span><svg aria-hidden=\"true\" class=\"domain-icon property-feature__icon css-kry84i\" height=\"24\" viewbox=\"0 0 24 24\" width=\"24\"><path d=\"M3.5 4v13\" fill=\"none\" stroke=\"currentColor\"></path><path d=\"M2.3 4h2.4c.2 0 .4-.2.2-.4L3.7 2.1a.3.3 0 0 0-.5 0L2.1 3.6c-.2.2 0 .4.2.4zm2.4 13H2.3c-.2 0-.4.2-.2.4l1.2 1.5a.3.3 0 0 0 .5 0L5 17.4c.1-.2-.1-.4-.3-.4z\" fill=\"currentColor\"></path><path d=\"M20 21.5H8\" fill=\"none\" stroke=\"currentColor\"></path><path d=\"M20 20.3v2.4c0 .2.2.4.4.2l1.5-1.2a.3.3 0 0 0 0-.5L20.4 20c-.2-.1-.4.1-.4.3zM8 22.7v-2.4c0-.2-.2-.4-.4-.2l-1.5 1.2a.3.3 0 0 0 0 .5L7.6 23c.2.1.4-.1.4-.3z\" fill=\"currentColor\"></path><path d=\"M7 5h14v13H7z\" fill=\"none\" stroke=\"currentColor\" stroke-width=\"2\"></path></svg></span></div></div><div class=\"css-1uvlh9e\" data-testid=\"listing-summary-property-type\"><span class=\"css-in3yi3\">House</span></div></div>"
      ]
     },
     "execution_count": 38,
     "metadata": {},
     "output_type": "execute_result"
    }
   ],
   "source": [
    "# parse object with BeautifulSoup as bs\n",
    "soup = bs(html, 'html.parser')\n",
    "summary = soup.find(\"div\", class_=\"css-fpm9y\")\n",
    "\n",
    "\n",
    "browser.quit()\n",
    "summary"
   ]
  },
  {
   "cell_type": "code",
   "execution_count": 39,
   "metadata": {},
   "outputs": [
    {
     "name": "stdout",
     "output_type": "stream",
     "text": [
      "470 3 2 3 57 Curtin Ave Abbotsford NSW 2046 House\n"
     ]
    }
   ],
   "source": [
    "property_features = summary.find_all('span', class_='css-1rzse3v')\n",
    "bedrooms = property_features[0].text.split(' ')[0]\n",
    "bathrooms = property_features[1].text.split(' ')[0]\n",
    "cars = property_features[2].text.split(' ')[0]\n",
    "landsize = property_features[3].text.split(' ')[0][:-2]\n",
    "\n",
    "address = summary.find('h1', class_='css-164r41r').text\n",
    "property_type = summary.find('span', class_='css-in3yi3').text\n",
    "\n",
    "print(landsize, bedrooms, bathrooms, cars, address, property_type)"
   ]
  },
  {
   "cell_type": "code",
   "execution_count": 40,
   "metadata": {},
   "outputs": [
    {
     "data": {
      "text/plain": [
       "'Abbotsford'"
      ]
     },
     "execution_count": 40,
     "metadata": {},
     "output_type": "execute_result"
    }
   ],
   "source": [
    "suburb = address.split(' ')[3]\n",
    "suburb"
   ]
  },
  {
   "cell_type": "code",
   "execution_count": 41,
   "metadata": {},
   "outputs": [
    {
     "data": {
      "text/plain": [
       "'2046'"
      ]
     },
     "execution_count": 41,
     "metadata": {},
     "output_type": "execute_result"
    }
   ],
   "source": [
    "postcode = address.split(' ')[-1]\n",
    "postcode"
   ]
  },
  {
   "cell_type": "code",
   "execution_count": 42,
   "metadata": {},
   "outputs": [],
   "source": [
    "browser.quit()"
   ]
  },
  {
   "cell_type": "markdown",
   "metadata": {},
   "source": [
    "# TESTING PREDICTION MODEL"
   ]
  },
  {
   "cell_type": "code",
   "execution_count": 1,
   "metadata": {},
   "outputs": [],
   "source": [
    "from joblib import dump, load"
   ]
  },
  {
   "cell_type": "code",
   "execution_count": 2,
   "metadata": {},
   "outputs": [],
   "source": [
    "MODEL  = \"simple_LR.joblib\""
   ]
  },
  {
   "cell_type": "code",
   "execution_count": 4,
   "metadata": {},
   "outputs": [
    {
     "name": "stderr",
     "output_type": "stream",
     "text": [
      "C:\\Users\\TechFast Australia\\anaconda3\\envs\\PythonData\\lib\\site-packages\\sklearn\\base.py:329: UserWarning: Trying to unpickle estimator LinearRegression from version 0.23.1 when using version 0.23.2. This might lead to breaking code or invalid results. Use at your own risk.\n",
      "  warnings.warn(\n"
     ]
    }
   ],
   "source": [
    "model = load(MODEL)"
   ]
  },
  {
   "cell_type": "code",
   "execution_count": 7,
   "metadata": {},
   "outputs": [
    {
     "data": {
      "text/plain": [
       "array([[1009139.0819779]])"
      ]
     },
     "execution_count": 7,
     "metadata": {},
     "output_type": "execute_result"
    }
   ],
   "source": [
    "predict = model.predict([[1,2,3]])\n",
    "predict"
   ]
  },
  {
   "cell_type": "code",
   "execution_count": null,
   "metadata": {},
   "outputs": [],
   "source": []
  }
 ],
 "metadata": {
  "kernelspec": {
   "display_name": "Python [conda env:PythonData] *",
   "language": "python",
   "name": "conda-env-PythonData-py"
  },
  "language_info": {
   "codemirror_mode": {
    "name": "ipython",
    "version": 3
   },
   "file_extension": ".py",
   "mimetype": "text/x-python",
   "name": "python",
   "nbconvert_exporter": "python",
   "pygments_lexer": "ipython3",
   "version": "3.8.5"
  }
 },
 "nbformat": 4,
 "nbformat_minor": 4
}
